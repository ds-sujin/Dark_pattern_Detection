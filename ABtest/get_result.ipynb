{
 "cells": [
  {
   "cell_type": "code",
   "execution_count": 43,
   "id": "aa1e515f-8b9d-4985-9671-f6668a8b1f83",
   "metadata": {},
   "outputs": [],
   "source": [
    "import pandas as pd\n",
    "scenario1 = pd.read_csv(\"./editdata/scenario1_clicklogs.csv\")\n",
    "scenario2 = pd.read_csv(\"./editdata/scenario2_clicklogs.csv\")\n"
   ]
  },
  {
   "cell_type": "code",
   "execution_count": 44,
   "id": "94687e4c-e6f9-4bbe-97a2-219a142e7eb2",
   "metadata": {},
   "outputs": [],
   "source": [
    "import pandas as pd\n",
    "\n",
    "# timestamp 형식 변환\n",
    "scenario1['timestamp'] = pd.to_datetime(scenario1['timestamp'])\n",
    "\n",
    "# 사용자별로 정렬\n",
    "scenario1 = scenario1.sort_values(by=['username', 'timestamp'])\n",
    "\n",
    "# 시간 차이 계산\n",
    "scenario1['duration_sec'] = scenario1.groupby('username')['timestamp'].diff().dt.total_seconds()\n",
    "\n",
    "# 사용자별 시나리오 블록 나누기: \"StartButton - scenario 1\" 기준으로 시나리오 시작점 표시\n",
    "scenario1['is_start'] = (scenario1['button'] == 'StartButton - scenario 1').astype(int)\n",
    "\n",
    "# 사용자 내에서 누적합으로 각 시나리오 그룹 구분 (여기선 내부적으로만 사용, 컬럼 생성 X)\n",
    "scenario1['temp_group'] = scenario1.groupby('username')['is_start'].cumsum()\n",
    "\n",
    "# 각 시나리오 그룹별로 duration 합산\n",
    "total_duration_per_group = (\n",
    "    scenario1\n",
    "    .fillna({'duration_sec': 0})\n",
    "    .groupby(['username', 'temp_group'])['duration_sec']\n",
    "    .sum()\n",
    "    .reset_index()\n",
    "    .rename(columns={'duration_sec': 'total_duration_sec'})\n",
    ")\n",
    "\n",
    "# 원래 데이터프레임에 merge (temp_group 기준)\n",
    "scenario1 = scenario1.merge(total_duration_per_group, on=['username', 'temp_group'], how='left')\n",
    "scenario1['duration_sec'] = scenario1['duration_sec'].fillna(0)\n",
    "# 불필요한 중간 컬럼 제거\n",
    "scenario1.drop(columns=['is_start', 'temp_group'], inplace=True)\n",
    "scenario1['scenario'] = 'scenario 1'\n",
    "\n",
    "scenario1.to_csv(\"scenario1_added_duration.csv\")"
   ]
  },
  {
   "cell_type": "code",
   "execution_count": 45,
   "id": "fb057f7d-7af9-4fa7-882a-b0f56e1ac5ed",
   "metadata": {},
   "outputs": [],
   "source": [
    "import pandas as pd\n",
    "\n",
    "# timestamp 형식 변환\n",
    "scenario2['timestamp'] = pd.to_datetime(scenario2['timestamp'])\n",
    "\n",
    "# 사용자별로 정렬\n",
    "scenario2 = scenario2.sort_values(by=['username', 'timestamp'])\n",
    "\n",
    "# 시간 차이 계산\n",
    "scenario2['duration_sec'] = scenario2.groupby('username')['timestamp'].diff().dt.total_seconds()\n",
    "\n",
    "# 사용자별 시나리오 블록 나누기: \"StartButton - scenario 1\" 기준으로 시나리오 시작점 표시\n",
    "scenario2['is_start'] = (scenario2['button'] == 'StartButton - scenario 2').astype(int)\n",
    "\n",
    "# 사용자 내에서 누적합으로 각 시나리오 그룹 구분 (여기선 내부적으로만 사용, 컬럼 생성 X)\n",
    "scenario2['temp_group'] = scenario2.groupby('username')['is_start'].cumsum()\n",
    "\n",
    "# 각 시나리오 그룹별로 duration 합산\n",
    "total_duration_per_group = (\n",
    "    scenario2\n",
    "    .fillna({'duration_sec': 0})\n",
    "    .groupby(['username', 'temp_group'])['duration_sec']\n",
    "    .sum()\n",
    "    .reset_index()\n",
    "    .rename(columns={'duration_sec': 'total_duration_sec'})\n",
    ")\n",
    "\n",
    "# 원래 데이터프레임에 merge (temp_group 기준)\n",
    "scenario2 = scenario2.merge(total_duration_per_group, on=['username', 'temp_group'], how='left')\n",
    "scenario2['duration_sec'] = scenario2['duration_sec'].fillna(0)\n",
    "# 불필요한 중간 컬럼 제거\n",
    "scenario2.drop(columns=['is_start', 'temp_group'], inplace=True)\n",
    "scenario2['scenario'] = 'scenario 2'\n",
    "scenario2.to_csv(\"scenario2_added_duration.csv\")"
   ]
  },
  {
   "cell_type": "code",
   "execution_count": null,
   "id": "1c9c6dd4-73d5-4820-a375-7a0c37ff2b1c",
   "metadata": {},
   "outputs": [],
   "source": []
  },
  {
   "cell_type": "code",
   "execution_count": null,
   "id": "14d78d99-5874-4ae5-aba1-81b8be7c6d48",
   "metadata": {},
   "outputs": [],
   "source": []
  }
 ],
 "metadata": {
  "kernelspec": {
   "display_name": "Python 3 (ipykernel)",
   "language": "python",
   "name": "python3"
  },
  "language_info": {
   "codemirror_mode": {
    "name": "ipython",
    "version": 3
   },
   "file_extension": ".py",
   "mimetype": "text/x-python",
   "name": "python",
   "nbconvert_exporter": "python",
   "pygments_lexer": "ipython3",
   "version": "3.13.2"
  }
 },
 "nbformat": 4,
 "nbformat_minor": 5
}
