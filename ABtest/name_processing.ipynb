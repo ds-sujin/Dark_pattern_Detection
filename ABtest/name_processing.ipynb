{
 "cells": [
  {
   "cell_type": "code",
   "execution_count": 1,
   "id": "62bb5eba",
   "metadata": {},
   "outputs": [],
   "source": [
    "import pandas as pd"
   ]
  },
  {
   "cell_type": "code",
   "execution_count": null,
   "id": "c6d9c7b3",
   "metadata": {},
   "outputs": [],
   "source": [
    "# 시나리오1 prev_test 기준\n",
    "\n",
    "df = pd.read_csv(\"../ABtest/editdata/scenario1_prev_test.csv\")\n",
    "\n",
    "name_order = [\n",
    "    \"조상동\", \"이옥순\", \"최미화\", \"이미령\", \"박정현\",\n",
    "    \"한정수\", \"박춘악\", \"구두자\", \"이순자\", \"오연회\"\n",
    "]\n",
    "\n",
    "df[\"성함을 작성해주세요.\"] = pd.Categorical(df[\"성함을 작성해주세요.\"], categories = name_order, ordered=True)\n",
    "df_sorted = df.sort_values(\"성함을 작성해주세요.\")\n",
    "\n",
    "df_sorted.to_csv(\"scenario1_prev_test.csv\", index=False)"
   ]
  },
  {
   "cell_type": "code",
   "execution_count": 9,
   "id": "5affd72f",
   "metadata": {},
   "outputs": [],
   "source": [
    "# 시나리오1 post_test 기준\n",
    "\n",
    "df = pd.read_csv(\"../ABtest/editdata/scenario1_post_test.csv\")\n",
    "\n",
    "name_order = [\n",
    "    \"조상동\", \"이옥순\", \"최미화\", \"이미령\", \"박정현\",\n",
    "    \"한정수\", \"박춘악\", \"구두자\", \"이순자\", \"오연회\"\n",
    "]\n",
    "\n",
    "df[\"성함\"] = pd.Categorical(df[\"성함\"], categories = name_order, ordered=True)\n",
    "df_sorted = df.sort_values(\"성함\")\n",
    "\n",
    "df_sorted\n",
    "df_sorted.to_csv(\"../ABtest/editdata/scenario1_post_test.csv\", index=False)"
   ]
  },
  {
   "cell_type": "code",
   "execution_count": 11,
   "id": "2387b40f",
   "metadata": {},
   "outputs": [],
   "source": [
    "# 시나리오2 prev_test 기준\n",
    "\n",
    "df = pd.read_csv(\"../ABtest/editdata/scenario2_prev_test.csv\")\n",
    "\n",
    "name_order = [\n",
    "    \"조영애\", \"송윤희\", \"차춘자\", \"이명숙\", \"유기석\",\n",
    "    \"이영희\", \"이후남\", \"이오범\", \"서정열\", \"김인복\"\n",
    "]\n",
    "\n",
    "df[\"성함을 작성해주세요.\"] = pd.Categorical(df[\"성함을 작성해주세요.\"], categories = name_order, ordered=True)\n",
    "df_sorted = df.sort_values(\"성함을 작성해주세요.\")\n",
    "\n",
    "df_sorted\n",
    "df_sorted.to_csv(\"../ABtest/editdata/scenario2_prev_test.csv\", index=False)"
   ]
  },
  {
   "cell_type": "code",
   "execution_count": 13,
   "id": "447e58bc",
   "metadata": {},
   "outputs": [],
   "source": [
    "# 시나리오2 post_test 기준\n",
    "\n",
    "df = pd.read_csv(\"../ABtest/editdata/scenario2_post_test.csv\")\n",
    "\n",
    "name_order = [\n",
    "    \"조영애\", \"송윤희\", \"차춘자\", \"이명숙\", \"유기석\",\n",
    "    \"이영희\", \"이후남\", \"이오범\", \"서정열\", \"김인복\"\n",
    "]\n",
    "\n",
    "df[\"성함\"] = pd.Categorical(df[\"성함\"], categories = name_order, ordered=True)\n",
    "df_sorted = df.sort_values(\"성함\")\n",
    "\n",
    "df_sorted\n",
    "df_sorted.to_csv(\"../ABtest/editdata/scenario2_post_test.csv\", index=False)"
   ]
  }
 ],
 "metadata": {
  "kernelspec": {
   "display_name": "Python 3",
   "language": "python",
   "name": "python3"
  },
  "language_info": {
   "codemirror_mode": {
    "name": "ipython",
    "version": 3
   },
   "file_extension": ".py",
   "mimetype": "text/x-python",
   "name": "python",
   "nbconvert_exporter": "python",
   "pygments_lexer": "ipython3",
   "version": "3.13.0"
  }
 },
 "nbformat": 4,
 "nbformat_minor": 5
}
