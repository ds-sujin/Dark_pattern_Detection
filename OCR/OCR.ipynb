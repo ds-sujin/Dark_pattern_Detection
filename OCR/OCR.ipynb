{
 "cells": [
  {
   "cell_type": "code",
   "execution_count": 23,
   "id": "b1aed61f-8696-4339-8735-5e18c8e04fc3",
   "metadata": {},
   "outputs": [
    {
     "name": "stderr",
     "output_type": "stream",
     "text": [
      "Downloading recognition model, please wait. This may take several minutes depending upon your network connection.\n"
     ]
    },
    {
     "name": "stdout",
     "output_type": "stream",
     "text": [
      "Progress: |██████████████████████████████████████████████████| 100.1% Complete"
     ]
    },
    {
     "name": "stderr",
     "output_type": "stream",
     "text": [
      "libpng warning: iCCP: known incorrect sRGB profile\n"
     ]
    },
    {
     "name": "stdout",
     "output_type": "stream",
     "text": [
      "1분 ARS 주문\n"
     ]
    }
   ],
   "source": [
    "import easyocr\n",
    "\n",
    "# OCR 모델 초기화\n",
    "reader = easyocr.Reader(['en','ko'])  # 영어 텍스트 인식 (언어 목록에 따라 수정 가능)\n",
    "\n",
    "# 이미지에서 텍스트 추출\n",
    "result = reader.readtext('btn_ars_.png')\n",
    "\n",
    "# 추출된 텍스트 출력\n",
    "for detection in result:\n",
    "    print(detection[1])"
   ]
  },
  {
   "cell_type": "code",
   "execution_count": null,
   "id": "11930c82-900b-4281-a222-41b86d9947ed",
   "metadata": {},
   "outputs": [],
   "source": []
  }
 ],
 "metadata": {
  "kernelspec": {
   "display_name": "Python 3 (ipykernel)",
   "language": "python",
   "name": "python3"
  },
  "language_info": {
   "codemirror_mode": {
    "name": "ipython",
    "version": 3
   },
   "file_extension": ".py",
   "mimetype": "text/x-python",
   "name": "python",
   "nbconvert_exporter": "python",
   "pygments_lexer": "ipython3",
   "version": "3.13.2"
  }
 },
 "nbformat": 4,
 "nbformat_minor": 5
}
