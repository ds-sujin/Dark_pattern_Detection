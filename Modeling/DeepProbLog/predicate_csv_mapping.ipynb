{
 "cells": [
  {
   "cell_type": "code",
   "execution_count": 3,
   "id": "85fe27fc",
   "metadata": {},
   "outputs": [
    {
     "name": "stdout",
     "output_type": "stream",
     "text": [
      "                                      Pattern String Pattern Category\n",
      "0  Collin P. from Grandview Missouri just bought ...     Social Proof\n",
      "1  Faith in Glendale, United States purchased a C...     Social Proof\n",
      "2  Sharmeen Atif From Karachi just bought Stylish...     Social Proof\n",
      "3                         9 people are viewing this.     Social Proof\n",
      "4           5338 people viewed this in the last hour     Social Proof\n"
     ]
    }
   ],
   "source": [
    "import pandas as pd\n",
    "\n",
    "df = pd.read_csv(\"pytorch_NN/darkpatterns.csv\")\n",
    "\n",
    "# 필요한 열만 선택 (열 이름에 공백 주의!)\n",
    "filtered_df = df[[\"Pattern String\", \"Pattern Category\"]]\n",
    "\n",
    "# 결과 출력\n",
    "print(filtered_df.head())  # 앞부분만 확인용\n",
    "\n",
    "# 필요하면 파일로 저장\n",
    "filtered_df.to_csv(\"mapping_patterns.csv\", index=False)"
   ]
  },
  {
   "cell_type": "code",
   "execution_count": 16,
   "id": "440ea1e5",
   "metadata": {},
   "outputs": [
    {
     "name": "stdout",
     "output_type": "stream",
     "text": [
      "✅ NaN 제거 후 저장 완료: mapping_patterns.csv\n"
     ]
    }
   ],
   "source": [
    "df = pd.read_csv(\"mapping_patterns.csv\")\n",
    "df = df.dropna()\n",
    "\n",
    "# 결과를 새로운 CSV로 저장\n",
    "df.to_csv(\"mapping_patterns.csv\", index=False, encoding='utf-8-sig')\n",
    "\n",
    "print(\"✅ NaN 제거 후 저장 완료: mapping_patterns.csv\")\n"
   ]
  },
  {
   "cell_type": "code",
   "execution_count": null,
   "id": "fe881928",
   "metadata": {},
   "outputs": [
    {
     "name": "stderr",
     "output_type": "stream",
     "text": [
      "100%|██████████| 237/237 [03:30<00:00,  1.12it/s]"
     ]
    },
    {
     "name": "stdout",
     "output_type": "stream",
     "text": [
      "🎉 misdirection 라벨링 완료 → 'misdirection_labeled.csv' 저장됨.\n"
     ]
    },
    {
     "name": "stderr",
     "output_type": "stream",
     "text": [
      "\n"
     ]
    }
   ],
   "source": [
    "import pandas as pd\n",
    "import json\n",
    "import openai\n",
    "import os\n",
    "from dotenv import load_dotenv\n",
    "from tqdm import tqdm\n",
    "\n",
    "# 환경변수에서 OPENAI API 키 불러오기\n",
    "load_dotenv()\n",
    "openai.api_key = os.getenv(\"OPENAI_API_KEY\")\n",
    "\n",
    "# 데이터 불러오기\n",
    "df = pd.read_csv(\"mapping_patterns.csv\")\n",
    "with open(\"predicates_type_7.json\", \"r\", encoding=\"utf-8\") as f:\n",
    "    predicate_dict = json.load(f)\n",
    "\n",
    "# 1. misdirection만 필터링\n",
    "df_misdirection = df[df[\"Pattern Category\"].str.lower() == \"misdirection\"].copy()\n",
    "\n",
    "# 2. misdirection에 해당하는 3개의 predicate 후보 가져오기\n",
    "candidates = predicate_dict[\"misdirection\"]\n",
    "\n",
    "# 3. patternstring에 대해 적합한 predicate 분류\n",
    "results = []\n",
    "for pattern in tqdm(df_misdirection[\"Pattern String\"].dropna()):\n",
    "    try:\n",
    "        user_prompt = f\"\"\"\n",
    "Pattern string:\n",
    "\"{pattern}\"\n",
    "\n",
    "Choose the most appropriate predicate from the following three candidates:\n",
    "1. {candidates[0]}\n",
    "2. {candidates[1]}\n",
    "3. {candidates[2]}\n",
    "\n",
    "Respond only with the number (1, 2, or 3).\n",
    "\"\"\"\n",
    "\n",
    "        response = openai.ChatCompletion.create(\n",
    "            model=\"gpt-4\",\n",
    "            messages=[\n",
    "                {\"role\": \"system\", \"content\": \"You are a classifier that selects the best predicate for each deceptive pattern.\"},\n",
    "                {\"role\": \"user\", \"content\": user_prompt}\n",
    "            ],\n",
    "            temperature=0\n",
    "        )\n",
    "\n",
    "        choice = response[\"choices\"][0][\"message\"][\"content\"].strip()\n",
    "        selected_pred = candidates[int(choice) - 1] if choice in ['1', '2', '3'] else \"invalid\"\n",
    "        results.append(selected_pred)\n",
    "\n",
    "    except Exception as e:\n",
    "        print(f\"[X] Error for: {pattern} → {e}\")\n",
    "        results.append(\"error\")\n",
    "\n",
    "# 4. 결과 저장\n",
    "df_misdirection[\"predicted_predicate\"] = results\n",
    "df_misdirection.to_csv(\"misdirection_labeled.csv\", index=False, encoding=\"utf-8-sig\")\n",
    "print(\"🎉 misdirection 라벨링 완료 → 'misdirection_labeled.csv' 저장됨.\")\n"
   ]
  },
  {
   "cell_type": "code",
   "execution_count": null,
   "id": "6c613591",
   "metadata": {},
   "outputs": [
    {
     "name": "stdout",
     "output_type": "stream",
     "text": [
      "best_predicate\n",
      "use_confirmshaming_language(ui_element, opt_out_button)      168\n",
      "obfuscate_comparison_details(ui_element, product_details)     39\n",
      "disguise_ad_as_content(ui_element, ad_content)                30\n",
      "Name: count, dtype: int64\n"
     ]
    }
   ],
   "source": [
    "df = pd.read_csv(\"misdirection_labeled.csv\")\n",
    "# patterncategory 열의 고유값 출력\n",
    "print(df[\"predicted_predicate\"].unique())\n",
    "print(df[\"predicted_predicate\"].value_counts())"
   ]
  },
  {
   "cell_type": "code",
   "execution_count": null,
   "id": "20ea0ae1",
   "metadata": {},
   "outputs": [],
   "source": [
    "# df = pd.read_csv(\"misdirection_labeled.csv\")\n",
    "# # 열 이름 변경\n",
    "# df = df.rename(columns={\"best_predicate\": \"predicted_predicate\"})\n",
    "\n",
    "# # 변경된 내용을 다시 저장\n",
    "# df.to_csv(\"misdirection_labeled.csv\", index=False)  # 원본 파일 덮어쓰기"
   ]
  },
  {
   "cell_type": "code",
   "execution_count": 31,
   "id": "829c7278",
   "metadata": {},
   "outputs": [
    {
     "name": "stderr",
     "output_type": "stream",
     "text": [
      "100%|██████████| 678/678 [09:06<00:00,  1.24it/s]"
     ]
    },
    {
     "name": "stdout",
     "output_type": "stream",
     "text": [
      "🎉 scarcity 라벨링 완료 → 'scarcity_labeled.csv' 저장됨.\n"
     ]
    },
    {
     "name": "stderr",
     "output_type": "stream",
     "text": [
      "\n"
     ]
    }
   ],
   "source": [
    "import pandas as pd\n",
    "import json\n",
    "import openai\n",
    "import os\n",
    "from dotenv import load_dotenv\n",
    "from tqdm import tqdm\n",
    "\n",
    "# 환경변수에서 OPENAI API 키 불러오기\n",
    "load_dotenv()\n",
    "openai.api_key = os.getenv(\"OPENAI_API_KEY\")\n",
    "\n",
    "# 데이터 불러오기\n",
    "df = pd.read_csv(\"mapping_patterns.csv\")\n",
    "with open(\"predicates_type_7.json\", \"r\", encoding=\"utf-8\") as f:\n",
    "    predicate_dict = json.load(f)\n",
    "\n",
    "# 1. misdirection만 필터링\n",
    "df_misdirection = df[df[\"Pattern Category\"].str.lower() == \"scarcity\"].copy()\n",
    "\n",
    "# 2. misdirection에 해당하는 3개의 predicate 후보 가져오기\n",
    "candidates = predicate_dict[\"scarcity\"]\n",
    "\n",
    "# 3. patternstring에 대해 적합한 predicate 분류\n",
    "results = []\n",
    "for pattern in tqdm(df_misdirection[\"Pattern String\"].dropna()):\n",
    "    try:\n",
    "        user_prompt = f\"\"\"\n",
    "Pattern string:\n",
    "\"{pattern}\"\n",
    "\n",
    "Choose the most appropriate predicate from the following three candidates:\n",
    "1. {candidates[0]}\n",
    "2. {candidates[1]}\n",
    "3. {candidates[2]}\n",
    "\n",
    "Respond only with the number (1, 2, or 3).\n",
    "\"\"\"\n",
    "\n",
    "        response = openai.ChatCompletion.create(\n",
    "            model=\"gpt-4\",\n",
    "            messages=[\n",
    "                {\"role\": \"system\", \"content\": \"You are a classifier that selects the best predicate for each deceptive pattern.\"},\n",
    "                {\"role\": \"user\", \"content\": user_prompt}\n",
    "            ],\n",
    "            temperature=0\n",
    "        )\n",
    "\n",
    "        choice = response[\"choices\"][0][\"message\"][\"content\"].strip()\n",
    "        selected_pred = candidates[int(choice) - 1] if choice in ['1', '2', '3'] else \"invalid\"\n",
    "        results.append(selected_pred)\n",
    "\n",
    "    except Exception as e:\n",
    "        print(f\"[X] Error for: {pattern} → {e}\")\n",
    "        results.append(\"error\")\n",
    "\n",
    "# 4. 결과 저장\n",
    "df_misdirection[\"predicted_predicate\"] = results\n",
    "df_misdirection.to_csv(\"scarcity_labeled.csv\", index=False, encoding=\"utf-8-sig\")\n",
    "print(\"🎉 scarcity 라벨링 완료 → 'scarcity_labeled.csv' 저장됨.\")\n"
   ]
  },
  {
   "cell_type": "code",
   "execution_count": 32,
   "id": "b1d9ac52",
   "metadata": {},
   "outputs": [
    {
     "name": "stdout",
     "output_type": "stream",
     "text": [
      "predicted_predicate\n",
      "display_fake_stock_counter(ui_element, stock_counter)           285\n",
      "inject_misleading_demand_message(ui_element, demand_message)    255\n",
      "simulate_high_demand(ui_element, sales_counter)                 138\n",
      "Name: count, dtype: int64\n"
     ]
    }
   ],
   "source": [
    "df = pd.read_csv(\"scarcity_labeled.csv\")\n",
    "# patterncategory 열의 고유값 출력\n",
    "print(df[\"predicted_predicate\"].value_counts())"
   ]
  },
  {
   "cell_type": "code",
   "execution_count": 34,
   "id": "0391c2ec",
   "metadata": {},
   "outputs": [
    {
     "name": "stderr",
     "output_type": "stream",
     "text": [
      "  0%|          | 0/314 [00:00<?, ?it/s]"
     ]
    },
    {
     "name": "stderr",
     "output_type": "stream",
     "text": [
      "100%|██████████| 314/314 [04:24<00:00,  1.19it/s]"
     ]
    },
    {
     "name": "stdout",
     "output_type": "stream",
     "text": [
      "🎉 social_proof 라벨링 완료 → 'social_proof_labeled.csv' 저장됨.\n"
     ]
    },
    {
     "name": "stderr",
     "output_type": "stream",
     "text": [
      "\n"
     ]
    }
   ],
   "source": [
    "import pandas as pd\n",
    "import json\n",
    "import openai\n",
    "import os\n",
    "from dotenv import load_dotenv\n",
    "from tqdm import tqdm\n",
    "\n",
    "# 환경변수에서 OPENAI API 키 불러오기\n",
    "load_dotenv()\n",
    "openai.api_key = os.getenv(\"OPENAI_API_KEY\")\n",
    "\n",
    "# 데이터 불러오기\n",
    "df = pd.read_csv(\"mapping_patterns.csv\")\n",
    "with open(\"predicates_type_7.json\", \"r\", encoding=\"utf-8\") as f:\n",
    "    predicate_dict = json.load(f)\n",
    "\n",
    "# 1. misdirection만 필터링\n",
    "df_social_proof = df[df[\"Pattern Category\"].str.lower() == \"social proof\"].copy()\n",
    "\n",
    "# 2. misdirection에 해당하는 3개의 predicate 후보 가져오기\n",
    "candidates = predicate_dict[\"social_proof\"]\n",
    "\n",
    "# 3. patternstring에 대해 적합한 predicate 분류\n",
    "results = []\n",
    "for pattern in tqdm(df_social_proof[\"Pattern String\"].dropna()):\n",
    "    try:\n",
    "        user_prompt = f\"\"\"\n",
    "Pattern string:\n",
    "\"{pattern}\"\n",
    "\n",
    "Choose the most appropriate predicate from the following three candidates:\n",
    "1. {candidates[0]}\n",
    "2. {candidates[1]}\n",
    "3. {candidates[2]}\n",
    "\n",
    "Respond only with the number (1, 2, or 3).\n",
    "\"\"\"\n",
    "\n",
    "        response = openai.ChatCompletion.create(\n",
    "            model=\"gpt-4\",\n",
    "            messages=[\n",
    "                {\"role\": \"system\", \"content\": \"You are a classifier that selects the best predicate for each deceptive pattern.\"},\n",
    "                {\"role\": \"user\", \"content\": user_prompt}\n",
    "            ],\n",
    "            temperature=0\n",
    "        )\n",
    "\n",
    "        choice = response[\"choices\"][0][\"message\"][\"content\"].strip()\n",
    "        selected_pred = candidates[int(choice) - 1] if choice in ['1', '2', '3'] else \"invalid\"\n",
    "        results.append(selected_pred)\n",
    "\n",
    "    except Exception as e:\n",
    "        print(f\"[X] Error for: {pattern} → {e}\")\n",
    "        results.append(\"error\")\n",
    "\n",
    "# 4. 결과 저장\n",
    "df_social_proof[\"predicted_predicate\"] = results\n",
    "df_social_proof.to_csv(\"social_proof_labeled.csv\", index=False, encoding=\"utf-8-sig\")\n",
    "print(\"🎉 social_proof 라벨링 완료 → 'social_proof_labeled.csv' 저장됨.\")\n"
   ]
  },
  {
   "cell_type": "code",
   "execution_count": 35,
   "id": "dafc8d86",
   "metadata": {},
   "outputs": [
    {
     "name": "stdout",
     "output_type": "stream",
     "text": [
      "predicted_predicate\n",
      "display_activity_message_overlay(message, item)     275\n",
      "generate_fake_endorsement(endorsement, location)     38\n",
      "inject_random_time(time)                              1\n",
      "Name: count, dtype: int64\n"
     ]
    }
   ],
   "source": [
    "df = pd.read_csv(\"social_proof_labeled.csv\")\n",
    "# patterncategory 열의 고유값 출력\n",
    "print(df[\"predicted_predicate\"].value_counts())"
   ]
  },
  {
   "cell_type": "code",
   "execution_count": 36,
   "id": "8829dd0d",
   "metadata": {},
   "outputs": [
    {
     "name": "stderr",
     "output_type": "stream",
     "text": [
      "100%|██████████| 237/237 [03:09<00:00,  1.25it/s]"
     ]
    },
    {
     "name": "stdout",
     "output_type": "stream",
     "text": [
      "🎉 urgency_labeled 라벨링 완료 → 'urgency_labeled.csv' 저장됨.\n"
     ]
    },
    {
     "name": "stderr",
     "output_type": "stream",
     "text": [
      "\n"
     ]
    }
   ],
   "source": [
    "import pandas as pd\n",
    "import json\n",
    "import openai\n",
    "import os\n",
    "from dotenv import load_dotenv\n",
    "from tqdm import tqdm\n",
    "\n",
    "# 환경변수에서 OPENAI API 키 불러오기\n",
    "load_dotenv()\n",
    "openai.api_key = os.getenv(\"OPENAI_API_KEY\")\n",
    "\n",
    "# 데이터 불러오기\n",
    "df = pd.read_csv(\"mapping_patterns.csv\")\n",
    "with open(\"predicates_type_7.json\", \"r\", encoding=\"utf-8\") as f:\n",
    "    predicate_dict = json.load(f)\n",
    "\n",
    "# 1. misdirection만 필터링\n",
    "df_urgency = df[df[\"Pattern Category\"].str.lower() == \"urgency\"].copy()\n",
    "\n",
    "# 2. misdirection에 해당하는 3개의 predicate 후보 가져오기\n",
    "candidates = predicate_dict[\"urgency\"]\n",
    "\n",
    "# 3. patternstring에 대해 적합한 predicate 분류\n",
    "results = []\n",
    "for pattern in tqdm(df_urgency[\"Pattern String\"].dropna()):\n",
    "    try:\n",
    "        user_prompt = f\"\"\"\n",
    "Pattern string:\n",
    "\"{pattern}\"\n",
    "\n",
    "Choose the most appropriate predicate from the following three candidates:\n",
    "1. {candidates[0]}\n",
    "2. {candidates[1]}\n",
    "3. {candidates[2]}\n",
    "\n",
    "Respond only with the number (1, 2, or 3).\n",
    "\"\"\"\n",
    "\n",
    "        response = openai.ChatCompletion.create(\n",
    "            model=\"gpt-4\",\n",
    "            messages=[\n",
    "                {\"role\": \"system\", \"content\": \"You are a classifier that selects the best predicate for each deceptive pattern.\"},\n",
    "                {\"role\": \"user\", \"content\": user_prompt}\n",
    "            ],\n",
    "            temperature=0\n",
    "        )\n",
    "\n",
    "        choice = response[\"choices\"][0][\"message\"][\"content\"].strip()\n",
    "        selected_pred = candidates[int(choice) - 1] if choice in ['1', '2', '3'] else \"invalid\"\n",
    "        results.append(selected_pred)\n",
    "\n",
    "    except Exception as e:\n",
    "        print(f\"[X] Error for: {pattern} → {e}\")\n",
    "        results.append(\"error\")\n",
    "\n",
    "# 4. 결과 저장\n",
    "df_urgency[\"predicted_predicate\"] = results\n",
    "df_urgency.to_csv(\"urgency_labeled.csv\", index=False, encoding=\"utf-8-sig\")\n",
    "print(\"🎉 urgency_labeled 라벨링 완료 → 'urgency_labeled.csv' 저장됨.\")\n"
   ]
  },
  {
   "cell_type": "code",
   "execution_count": 37,
   "id": "a104e8e0",
   "metadata": {},
   "outputs": [
    {
     "name": "stdout",
     "output_type": "stream",
     "text": [
      "predicted_predicate\n",
      "display_urgency_message(ui_element, prominence_level)       205\n",
      "inject_fake_timer(ui_element, animation_state)               17\n",
      "reset_countdown_timer(ui_element, default_configuration)     15\n",
      "Name: count, dtype: int64\n"
     ]
    }
   ],
   "source": [
    "df = pd.read_csv(\"urgency_labeled.csv\")\n",
    "# patterncategory 열의 고유값 출력\n",
    "print(df[\"predicted_predicate\"].value_counts())"
   ]
  },
  {
   "cell_type": "code",
   "execution_count": 38,
   "id": "1132065a",
   "metadata": {},
   "outputs": [
    {
     "name": "stderr",
     "output_type": "stream",
     "text": [
      "100%|██████████| 4/4 [00:09<00:00,  2.33s/it]"
     ]
    },
    {
     "name": "stdout",
     "output_type": "stream",
     "text": [
      "🎉 forced_action_labeled 라벨링 완료 → 'forced_action_labeled.csv' 저장됨.\n"
     ]
    },
    {
     "name": "stderr",
     "output_type": "stream",
     "text": [
      "\n"
     ]
    }
   ],
   "source": [
    "import pandas as pd\n",
    "import json\n",
    "import openai\n",
    "import os\n",
    "from dotenv import load_dotenv\n",
    "from tqdm import tqdm\n",
    "\n",
    "# 환경변수에서 OPENAI API 키 불러오기\n",
    "load_dotenv()\n",
    "openai.api_key = os.getenv(\"OPENAI_API_KEY\")\n",
    "\n",
    "# 데이터 불러오기\n",
    "df = pd.read_csv(\"mapping_patterns.csv\")\n",
    "with open(\"predicates_type_7.json\", \"r\", encoding=\"utf-8\") as f:\n",
    "    predicate_dict = json.load(f)\n",
    "\n",
    "# 1. misdirection만 필터링\n",
    "df_forced_action = df[df[\"Pattern Category\"].str.lower() == \"forced action\"].copy()\n",
    "\n",
    "# 2. misdirection에 해당하는 3개의 predicate 후보 가져오기\n",
    "candidates = predicate_dict[\"forced_action\"]\n",
    "\n",
    "# 3. patternstring에 대해 적합한 predicate 분류\n",
    "results = []\n",
    "for pattern in tqdm(df_forced_action[\"Pattern String\"].dropna()):\n",
    "    try:\n",
    "        user_prompt = f\"\"\"\n",
    "Pattern string:\n",
    "\"{pattern}\"\n",
    "\n",
    "Choose the most appropriate predicate from the following three candidates:\n",
    "1. {candidates[0]}\n",
    "2. {candidates[1]}\n",
    "3. {candidates[2]}\n",
    "\n",
    "Respond only with the number (1, 2, or 3).\n",
    "\"\"\"\n",
    "\n",
    "        response = openai.ChatCompletion.create(\n",
    "            model=\"gpt-4\",\n",
    "            messages=[\n",
    "                {\"role\": \"system\", \"content\": \"You are a classifier that selects the best predicate for each deceptive pattern.\"},\n",
    "                {\"role\": \"user\", \"content\": user_prompt}\n",
    "            ],\n",
    "            temperature=0\n",
    "        )\n",
    "\n",
    "        choice = response[\"choices\"][0][\"message\"][\"content\"].strip()\n",
    "        selected_pred = candidates[int(choice) - 1] if choice in ['1', '2', '3'] else \"invalid\"\n",
    "        results.append(selected_pred)\n",
    "\n",
    "    except Exception as e:\n",
    "        print(f\"[X] Error for: {pattern} → {e}\")\n",
    "        results.append(\"error\")\n",
    "\n",
    "# 4. 결과 저장\n",
    "df_forced_action[\"predicted_predicate\"] = results\n",
    "df_forced_action.to_csv(\"forced_action_labeled.csv\", index=False, encoding=\"utf-8-sig\")\n",
    "print(\"🎉 forced_action_labeled 라벨링 완료 → 'forced_action_labeled.csv' 저장됨.\")\n"
   ]
  },
  {
   "cell_type": "code",
   "execution_count": 39,
   "id": "bdc40885",
   "metadata": {},
   "outputs": [
    {
     "name": "stdout",
     "output_type": "stream",
     "text": [
      "predicted_predicate\n",
      "force_user_action(ui_element, desired_action)    3\n",
      "hide_opt_out(ui_element, opt_out_link)           1\n",
      "Name: count, dtype: int64\n"
     ]
    }
   ],
   "source": [
    "df = pd.read_csv(\"forced_action_labeled.csv\")\n",
    "# patterncategory 열의 고유값 출력\n",
    "print(df[\"predicted_predicate\"].value_counts())"
   ]
  },
  {
   "cell_type": "code",
   "execution_count": 40,
   "id": "ee7fb542",
   "metadata": {},
   "outputs": [
    {
     "name": "stderr",
     "output_type": "stream",
     "text": [
      "100%|██████████| 30/30 [00:24<00:00,  1.24it/s]"
     ]
    },
    {
     "name": "stdout",
     "output_type": "stream",
     "text": [
      "🎉 obstruction_labeled 라벨링 완료 → 'obstruction_labeled.csv' 저장됨.\n"
     ]
    },
    {
     "name": "stderr",
     "output_type": "stream",
     "text": [
      "\n"
     ]
    }
   ],
   "source": [
    "import pandas as pd\n",
    "import json\n",
    "import openai\n",
    "import os\n",
    "from dotenv import load_dotenv\n",
    "from tqdm import tqdm\n",
    "\n",
    "# 환경변수에서 OPENAI API 키 불러오기\n",
    "load_dotenv()\n",
    "openai.api_key = os.getenv(\"OPENAI_API_KEY\")\n",
    "\n",
    "# 데이터 불러오기\n",
    "df = pd.read_csv(\"mapping_patterns.csv\")\n",
    "with open(\"predicates_type_7.json\", \"r\", encoding=\"utf-8\") as f:\n",
    "    predicate_dict = json.load(f)\n",
    "\n",
    "# 1. misdirection만 필터링\n",
    "df_obstruction = df[df[\"Pattern Category\"].str.lower() == \"obstruction\"].copy()\n",
    "\n",
    "# 2. misdirection에 해당하는 3개의 predicate 후보 가져오기\n",
    "candidates = predicate_dict[\"obstruction\"]\n",
    "\n",
    "# 3. patternstring에 대해 적합한 predicate 분류\n",
    "results = []\n",
    "for pattern in tqdm(df_obstruction[\"Pattern String\"].dropna()):\n",
    "    try:\n",
    "        user_prompt = f\"\"\"\n",
    "Pattern string:\n",
    "\"{pattern}\"\n",
    "\n",
    "Choose the most appropriate predicate from the following three candidates:\n",
    "1. {candidates[0]}\n",
    "2. {candidates[1]}\n",
    "3. {candidates[2]}\n",
    "\n",
    "Respond only with the number (1, 2, or 3).\n",
    "\"\"\"\n",
    "\n",
    "        response = openai.ChatCompletion.create(\n",
    "            model=\"gpt-4\",\n",
    "            messages=[\n",
    "                {\"role\": \"system\", \"content\": \"You are a classifier that selects the best predicate for each deceptive pattern.\"},\n",
    "                {\"role\": \"user\", \"content\": user_prompt}\n",
    "            ],\n",
    "            temperature=0\n",
    "        )\n",
    "\n",
    "        choice = response[\"choices\"][0][\"message\"][\"content\"].strip()\n",
    "        selected_pred = candidates[int(choice) - 1] if choice in ['1', '2', '3'] else \"invalid\"\n",
    "        results.append(selected_pred)\n",
    "\n",
    "    except Exception as e:\n",
    "        print(f\"[X] Error for: {pattern} → {e}\")\n",
    "        results.append(\"error\")\n",
    "\n",
    "# 4. 결과 저장\n",
    "df_obstruction[\"predicted_predicate\"] = results\n",
    "df_obstruction.to_csv(\"obstruction_labeled.csv\", index=False, encoding=\"utf-8-sig\")\n",
    "print(\"🎉 obstruction_labeled 라벨링 완료 → 'obstruction_labeled.csv' 저장됨.\")\n"
   ]
  },
  {
   "cell_type": "code",
   "execution_count": 41,
   "id": "1cd758c1",
   "metadata": {},
   "outputs": [
    {
     "name": "stdout",
     "output_type": "stream",
     "text": [
      "predicted_predicate\n",
      "require_customer_service_interaction(service, action)     28\n",
      "create_obstacle_for_privacy_settings(service, setting)     2\n",
      "Name: count, dtype: int64\n"
     ]
    }
   ],
   "source": [
    "df = pd.read_csv(\"obstruction_labeled.csv\")\n",
    "# patterncategory 열의 고유값 출력\n",
    "print(df[\"predicted_predicate\"].value_counts())"
   ]
  },
  {
   "cell_type": "code",
   "execution_count": 44,
   "id": "54a9e3b9",
   "metadata": {},
   "outputs": [
    {
     "name": "stderr",
     "output_type": "stream",
     "text": [
      " 92%|█████████▏| 11/12 [00:12<00:01,  1.63s/it]"
     ]
    },
    {
     "name": "stdout",
     "output_type": "stream",
     "text": [
      "[!] Invalid response: 'None of the predicates are applicable to the given pattern string.' for pattern: 'SUPPORT THE AMERICAN SUPRESSOR ASSOCIATION'\n"
     ]
    },
    {
     "name": "stderr",
     "output_type": "stream",
     "text": [
      "100%|██████████| 12/12 [00:13<00:00,  1.09s/it]"
     ]
    },
    {
     "name": "stdout",
     "output_type": "stream",
     "text": [
      "🎉 sneaking_labeled 라벨링 완료 → 'sneaking_labeled.csv' 저장됨.\n"
     ]
    },
    {
     "name": "stderr",
     "output_type": "stream",
     "text": [
      "\n"
     ]
    }
   ],
   "source": [
    "import pandas as pd\n",
    "import json\n",
    "import openai\n",
    "import os\n",
    "import re\n",
    "from dotenv import load_dotenv\n",
    "from tqdm import tqdm\n",
    "\n",
    "# 0. 환경변수에서 OPENAI API 키 불러오기\n",
    "load_dotenv()\n",
    "openai.api_key = os.getenv(\"OPENAI_API_KEY\")\n",
    "\n",
    "# 1. 데이터 불러오기\n",
    "df = pd.read_csv(\"mapping_patterns.csv\")\n",
    "with open(\"predicates_type_7.json\", \"r\", encoding=\"utf-8\") as f:\n",
    "    predicate_dict = json.load(f)\n",
    "\n",
    "# 2. sneaking만 필터링\n",
    "df_sneaking = df[df[\"Pattern Category\"].str.lower() == \"sneaking\"].copy()\n",
    "\n",
    "# 3. sneaking에 해당하는 3개의 predicate 후보 가져오기\n",
    "candidates = predicate_dict[\"sneaking\"]\n",
    "\n",
    "# 4. pattern string에 대해 적합한 predicate 분류\n",
    "results = []\n",
    "for pattern in tqdm(df_sneaking[\"Pattern String\"].dropna()):\n",
    "    try:\n",
    "        user_prompt = f\"\"\"\n",
    "Pattern string:\n",
    "\"{pattern}\"\n",
    "\n",
    "Choose the most appropriate predicate from the following three candidates:\n",
    "1. {candidates[0]}\n",
    "2. {candidates[1]}\n",
    "3. {candidates[2]}\n",
    "\n",
    "Respond only with the number (1, 2, or 3). You must choose one.\n",
    "\"\"\"\n",
    "\n",
    "        response = openai.ChatCompletion.create(\n",
    "            model=\"gpt-4\",\n",
    "            messages=[\n",
    "                {\n",
    "                    \"role\": \"system\",\n",
    "                    \"content\": \"You are a classifier that selects the best predicate for each deceptive pattern.\"\n",
    "                },\n",
    "                {\n",
    "                    \"role\": \"user\",\n",
    "                    \"content\": user_prompt\n",
    "                }\n",
    "            ],\n",
    "            temperature=0\n",
    "        )\n",
    "\n",
    "        # GPT 응답 처리\n",
    "        choice_raw = response[\"choices\"][0][\"message\"][\"content\"].strip()\n",
    "        match = re.search(r\"\\b([1-3])\\b\", choice_raw)\n",
    "\n",
    "        if match:\n",
    "            selected_pred = candidates[int(match.group(1)) - 1]\n",
    "        else:\n",
    "            print(f\"[!] Invalid response: '{choice_raw}' for pattern: '{pattern}'\")\n",
    "            selected_pred = \"invalid\"\n",
    "\n",
    "        results.append(selected_pred)\n",
    "\n",
    "    except Exception as e:\n",
    "        print(f\"[X] Error for: {pattern} → {e}\")\n",
    "        results.append(\"error\")\n",
    "\n",
    "# 5. 결과 저장\n",
    "df_sneaking[\"predicted_predicate\"] = results\n",
    "df_sneaking.to_csv(\"sneaking_labeled.csv\", index=False, encoding=\"utf-8-sig\")\n",
    "print(\"🎉 sneaking_labeled 라벨링 완료 → 'sneaking_labeled.csv' 저장됨.\")\n"
   ]
  },
  {
   "cell_type": "code",
   "execution_count": 43,
   "id": "1357affb",
   "metadata": {},
   "outputs": [
    {
     "name": "stdout",
     "output_type": "stream",
     "text": [
      "predicted_predicate\n",
      "hide_additional_costs(ui_element, purchase_process)    8\n",
      "create_hidden_subscription(ui_element, user_action)    2\n",
      "preselect_option(ui_element, default_option)           1\n",
      "invalid                                                1\n",
      "Name: count, dtype: int64\n"
     ]
    }
   ],
   "source": [
    "df = pd.read_csv(\"sneaking_labeled.csv\")\n",
    "# patterncategory 열의 고유값 출력\n",
    "print(df[\"predicted_predicate\"].value_counts())"
   ]
  },
  {
   "cell_type": "code",
   "execution_count": 46,
   "id": "2218350a",
   "metadata": {},
   "outputs": [
    {
     "name": "stdout",
     "output_type": "stream",
     "text": [
      "✅ 'invalid' 제거 후 저장 완료 → 'sneaking_labeled.csv'\n"
     ]
    }
   ],
   "source": [
    "# pattern string이 predicate에 적합하지 않은 경우 drop 진행\n",
    "\n",
    "df = pd.read_csv(\"sneaking_labeled.csv\")\n",
    "df_cleaned = df_sneaking[df_sneaking[\"predicted_predicate\"] != \"invalid\"].copy()\n",
    "df_cleaned.to_csv(\"sneaking_labeled.csv\", index=False, encoding=\"utf-8-sig\")\n",
    "print(\"✅ 'invalid' 제거 후 저장 완료 → 'sneaking_labeled.csv'\")\n"
   ]
  }
 ],
 "metadata": {
  "kernelspec": {
   "display_name": "Python 3",
   "language": "python",
   "name": "python3"
  },
  "language_info": {
   "codemirror_mode": {
    "name": "ipython",
    "version": 3
   },
   "file_extension": ".py",
   "mimetype": "text/x-python",
   "name": "python",
   "nbconvert_exporter": "python",
   "pygments_lexer": "ipython3",
   "version": "3.13.0"
  }
 },
 "nbformat": 4,
 "nbformat_minor": 5
}
