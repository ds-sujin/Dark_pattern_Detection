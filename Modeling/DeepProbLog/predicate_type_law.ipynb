{
 "cells": [
  {
   "cell_type": "code",
   "execution_count": 1,
   "id": "4daa375c",
   "metadata": {},
   "outputs": [
    {
     "name": "stdout",
     "output_type": "stream",
     "text": [
      "✅ predicates_mapped.csv 파일이 생성되었습니다.\n"
     ]
    }
   ],
   "source": [
    "import json\n",
    "import csv\n",
    "\n",
    "# JSON 파일 경로\n",
    "json_path = 'predicates_type_7.json'\n",
    "csv_path = 'predicates_mapped.csv'\n",
    "\n",
    "# JSON 파일 로딩\n",
    "with open(json_path, 'r', encoding='utf-8') as f:\n",
    "    data = json.load(f)\n",
    "\n",
    "# CSV 파일로 변환\n",
    "with open(csv_path, 'w', newline='', encoding='utf-8') as f:\n",
    "    writer = csv.writer(f)\n",
    "    writer.writerow(['predicate', 'type'])  # 헤더\n",
    "\n",
    "    for pattern_type, predicates in data.items():\n",
    "        for predicate in predicates:\n",
    "            writer.writerow([predicate, pattern_type])\n",
    "\n",
    "print(\"✅ predicates_mapped.csv 파일이 생성되었습니다.\")\n"
   ]
  },
  {
   "cell_type": "code",
   "execution_count": 3,
   "id": "d6bfa1e6",
   "metadata": {},
   "outputs": [
    {
     "data": {
      "application/vnd.microsoft.datawrangler.viewer.v0+json": {
       "columns": [
        {
         "name": "index",
         "rawType": "int64",
         "type": "integer"
        },
        {
         "name": "predicate",
         "rawType": "object",
         "type": "string"
        },
        {
         "name": "type",
         "rawType": "object",
         "type": "string"
        }
       ],
       "ref": "24379ba7-ac0a-4836-8370-52773a8a2a05",
       "rows": [
        [
         "0",
         "obfuscate_comparison_details(ui_element, product_details)",
         "misdirection"
        ],
        [
         "1",
         "use_confirmshaming_language(ui_element, opt_out_button)",
         "misdirection"
        ],
        [
         "2",
         "disguise_ad_as_content(ui_element, ad_content)",
         "misdirection"
        ],
        [
         "3",
         "display_fake_stock_counter(ui_element, stock_counter)",
         "scarcity"
        ],
        [
         "4",
         "inject_misleading_demand_message(ui_element, demand_message)",
         "scarcity"
        ],
        [
         "5",
         "simulate_high_demand(ui_element, sales_counter)",
         "scarcity"
        ],
        [
         "6",
         "generate_fake_endorsement(endorsement, location)",
         "social_proof"
        ],
        [
         "7",
         "inject_random_time(time)",
         "social_proof"
        ],
        [
         "8",
         "display_activity_message_overlay(message, item)",
         "social_proof"
        ],
        [
         "9",
         "inject_fake_timer(ui_element, animation_state)",
         "urgency"
        ],
        [
         "10",
         "reset_countdown_timer(ui_element, default_configuration)",
         "urgency"
        ],
        [
         "11",
         "display_urgency_message(ui_element, prominence_level)",
         "urgency"
        ],
        [
         "12",
         "force_user_action(ui_element, desired_action)",
         "forced_action"
        ],
        [
         "13",
         "hide_opt_out(ui_element, opt_out_link)",
         "forced_action"
        ],
        [
         "14",
         "repeat_request(ui_element, request_message)",
         "forced_action"
        ],
        [
         "15",
         "hide_cancellation_option(service)",
         "obstruction"
        ],
        [
         "16",
         "require_customer_service_interaction(service, action)",
         "obstruction"
        ],
        [
         "17",
         "create_obstacle_for_privacy_settings(service, setting)",
         "obstruction"
        ],
        [
         "18",
         "hide_additional_costs(ui_element, purchase_process)",
         "sneaking"
        ],
        [
         "19",
         "create_hidden_subscription(ui_element, user_action)",
         "sneaking"
        ],
        [
         "20",
         "preselect_option(ui_element, default_option)",
         "sneaking"
        ]
       ],
       "shape": {
        "columns": 2,
        "rows": 21
       }
      },
      "text/html": [
       "<div>\n",
       "<style scoped>\n",
       "    .dataframe tbody tr th:only-of-type {\n",
       "        vertical-align: middle;\n",
       "    }\n",
       "\n",
       "    .dataframe tbody tr th {\n",
       "        vertical-align: top;\n",
       "    }\n",
       "\n",
       "    .dataframe thead th {\n",
       "        text-align: right;\n",
       "    }\n",
       "</style>\n",
       "<table border=\"1\" class=\"dataframe\">\n",
       "  <thead>\n",
       "    <tr style=\"text-align: right;\">\n",
       "      <th></th>\n",
       "      <th>predicate</th>\n",
       "      <th>type</th>\n",
       "    </tr>\n",
       "  </thead>\n",
       "  <tbody>\n",
       "    <tr>\n",
       "      <th>0</th>\n",
       "      <td>obfuscate_comparison_details(ui_element, produ...</td>\n",
       "      <td>misdirection</td>\n",
       "    </tr>\n",
       "    <tr>\n",
       "      <th>1</th>\n",
       "      <td>use_confirmshaming_language(ui_element, opt_ou...</td>\n",
       "      <td>misdirection</td>\n",
       "    </tr>\n",
       "    <tr>\n",
       "      <th>2</th>\n",
       "      <td>disguise_ad_as_content(ui_element, ad_content)</td>\n",
       "      <td>misdirection</td>\n",
       "    </tr>\n",
       "    <tr>\n",
       "      <th>3</th>\n",
       "      <td>display_fake_stock_counter(ui_element, stock_c...</td>\n",
       "      <td>scarcity</td>\n",
       "    </tr>\n",
       "    <tr>\n",
       "      <th>4</th>\n",
       "      <td>inject_misleading_demand_message(ui_element, d...</td>\n",
       "      <td>scarcity</td>\n",
       "    </tr>\n",
       "    <tr>\n",
       "      <th>5</th>\n",
       "      <td>simulate_high_demand(ui_element, sales_counter)</td>\n",
       "      <td>scarcity</td>\n",
       "    </tr>\n",
       "    <tr>\n",
       "      <th>6</th>\n",
       "      <td>generate_fake_endorsement(endorsement, location)</td>\n",
       "      <td>social_proof</td>\n",
       "    </tr>\n",
       "    <tr>\n",
       "      <th>7</th>\n",
       "      <td>inject_random_time(time)</td>\n",
       "      <td>social_proof</td>\n",
       "    </tr>\n",
       "    <tr>\n",
       "      <th>8</th>\n",
       "      <td>display_activity_message_overlay(message, item)</td>\n",
       "      <td>social_proof</td>\n",
       "    </tr>\n",
       "    <tr>\n",
       "      <th>9</th>\n",
       "      <td>inject_fake_timer(ui_element, animation_state)</td>\n",
       "      <td>urgency</td>\n",
       "    </tr>\n",
       "    <tr>\n",
       "      <th>10</th>\n",
       "      <td>reset_countdown_timer(ui_element, default_conf...</td>\n",
       "      <td>urgency</td>\n",
       "    </tr>\n",
       "    <tr>\n",
       "      <th>11</th>\n",
       "      <td>display_urgency_message(ui_element, prominence...</td>\n",
       "      <td>urgency</td>\n",
       "    </tr>\n",
       "    <tr>\n",
       "      <th>12</th>\n",
       "      <td>force_user_action(ui_element, desired_action)</td>\n",
       "      <td>forced_action</td>\n",
       "    </tr>\n",
       "    <tr>\n",
       "      <th>13</th>\n",
       "      <td>hide_opt_out(ui_element, opt_out_link)</td>\n",
       "      <td>forced_action</td>\n",
       "    </tr>\n",
       "    <tr>\n",
       "      <th>14</th>\n",
       "      <td>repeat_request(ui_element, request_message)</td>\n",
       "      <td>forced_action</td>\n",
       "    </tr>\n",
       "    <tr>\n",
       "      <th>15</th>\n",
       "      <td>hide_cancellation_option(service)</td>\n",
       "      <td>obstruction</td>\n",
       "    </tr>\n",
       "    <tr>\n",
       "      <th>16</th>\n",
       "      <td>require_customer_service_interaction(service, ...</td>\n",
       "      <td>obstruction</td>\n",
       "    </tr>\n",
       "    <tr>\n",
       "      <th>17</th>\n",
       "      <td>create_obstacle_for_privacy_settings(service, ...</td>\n",
       "      <td>obstruction</td>\n",
       "    </tr>\n",
       "    <tr>\n",
       "      <th>18</th>\n",
       "      <td>hide_additional_costs(ui_element, purchase_pro...</td>\n",
       "      <td>sneaking</td>\n",
       "    </tr>\n",
       "    <tr>\n",
       "      <th>19</th>\n",
       "      <td>create_hidden_subscription(ui_element, user_ac...</td>\n",
       "      <td>sneaking</td>\n",
       "    </tr>\n",
       "    <tr>\n",
       "      <th>20</th>\n",
       "      <td>preselect_option(ui_element, default_option)</td>\n",
       "      <td>sneaking</td>\n",
       "    </tr>\n",
       "  </tbody>\n",
       "</table>\n",
       "</div>"
      ],
      "text/plain": [
       "                                            predicate           type\n",
       "0   obfuscate_comparison_details(ui_element, produ...   misdirection\n",
       "1   use_confirmshaming_language(ui_element, opt_ou...   misdirection\n",
       "2      disguise_ad_as_content(ui_element, ad_content)   misdirection\n",
       "3   display_fake_stock_counter(ui_element, stock_c...       scarcity\n",
       "4   inject_misleading_demand_message(ui_element, d...       scarcity\n",
       "5     simulate_high_demand(ui_element, sales_counter)       scarcity\n",
       "6    generate_fake_endorsement(endorsement, location)   social_proof\n",
       "7                            inject_random_time(time)   social_proof\n",
       "8     display_activity_message_overlay(message, item)   social_proof\n",
       "9      inject_fake_timer(ui_element, animation_state)        urgency\n",
       "10  reset_countdown_timer(ui_element, default_conf...        urgency\n",
       "11  display_urgency_message(ui_element, prominence...        urgency\n",
       "12      force_user_action(ui_element, desired_action)  forced_action\n",
       "13             hide_opt_out(ui_element, opt_out_link)  forced_action\n",
       "14        repeat_request(ui_element, request_message)  forced_action\n",
       "15                  hide_cancellation_option(service)    obstruction\n",
       "16  require_customer_service_interaction(service, ...    obstruction\n",
       "17  create_obstacle_for_privacy_settings(service, ...    obstruction\n",
       "18  hide_additional_costs(ui_element, purchase_pro...       sneaking\n",
       "19  create_hidden_subscription(ui_element, user_ac...       sneaking\n",
       "20       preselect_option(ui_element, default_option)       sneaking"
      ]
     },
     "execution_count": 3,
     "metadata": {},
     "output_type": "execute_result"
    }
   ],
   "source": [
    "import pandas as pd\n",
    "\n",
    "df = pd.read_csv(\"predicates_mapped.csv\")\n",
    "df"
   ]
  },
  {
   "cell_type": "code",
   "execution_count": 6,
   "id": "46d8954e",
   "metadata": {},
   "outputs": [
    {
     "name": "stdout",
     "output_type": "stream",
     "text": [
      "✅ predicate_type_law.csv 생성 완료!\n"
     ]
    }
   ],
   "source": [
    "import json\n",
    "import csv\n",
    "from collections import defaultdict\n",
    "\n",
    "# 1. 파일 로딩\n",
    "with open('predicates_type_7.json', 'r', encoding='utf-8') as f:\n",
    "    predicates_data = json.load(f)\n",
    "\n",
    "with open('dark_patterns_mapped.json', 'r', encoding='utf-8') as f:\n",
    "    subtype_map = json.load(f)\n",
    "\n",
    "with open('pattern_to_laws.json', 'r', encoding='utf-8') as f:\n",
    "    pattern_laws = json.load(f)\n",
    "\n",
    "# 2. 하위 → 상위 type 매핑\n",
    "subtype_to_supertype = {}\n",
    "for supertype, subtypes in subtype_map.items():\n",
    "    for subtype in subtypes:\n",
    "        subtype_to_supertype[subtype.lower()] = supertype\n",
    "\n",
    "# 3. 상위 type → laws 집계\n",
    "supertype_laws = defaultdict(set)\n",
    "for subtype, laws in pattern_laws.items():\n",
    "    subtype_lower = subtype.lower()\n",
    "    if subtype_lower in subtype_to_supertype:\n",
    "        supertype = subtype_to_supertype[subtype_lower]\n",
    "        supertype_laws[supertype].update(laws)\n",
    "\n",
    "# 4. CSV 작성\n",
    "with open('predicate_type_law.csv', 'w', newline='', encoding='utf-8') as f:\n",
    "    writer = csv.writer(f)\n",
    "    writer.writerow(['predicate', 'type', 'laws'])\n",
    "\n",
    "    for supertype, predicates in predicates_data.items():\n",
    "        laws = sorted(list(supertype_laws[supertype]))\n",
    "        for predicate in predicates:\n",
    "            writer.writerow([predicate, supertype, json.dumps(laws, ensure_ascii=False)])\n",
    "\n",
    "print(\"✅ predicate_type_law.csv 생성 완료!\")\n"
   ]
  },
  {
   "cell_type": "code",
   "execution_count": null,
   "id": "7609cbbf",
   "metadata": {},
   "outputs": [],
   "source": []
  }
 ],
 "metadata": {
  "kernelspec": {
   "display_name": "Python 3",
   "language": "python",
   "name": "python3"
  },
  "language_info": {
   "codemirror_mode": {
    "name": "ipython",
    "version": 3
   },
   "file_extension": ".py",
   "mimetype": "text/x-python",
   "name": "python",
   "nbconvert_exporter": "python",
   "pygments_lexer": "ipython3",
   "version": "3.13.0"
  }
 },
 "nbformat": 4,
 "nbformat_minor": 5
}
