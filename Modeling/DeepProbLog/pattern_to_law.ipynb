{
 "cells": [
  {
   "cell_type": "code",
   "execution_count": 1,
   "id": "949f0ce8-d6d7-4afd-a595-caa54f90aaea",
   "metadata": {},
   "outputs": [],
   "source": [
    "import json\n",
    "from collections import defaultdict\n",
    "\n",
    "# 파일 경로\n",
    "file_path = 'laws_detailed.json'\n",
    "\n",
    "# 패턴 → 법률 매핑 딕셔너리\n",
    "pattern_to_laws = defaultdict(list)\n",
    "\n",
    "with open(file_path, 'r', encoding='utf-8') as f:\n",
    "    laws = json.load(f)\n",
    "\n",
    "# 패턴을 소문자 + 언더스코어 형식으로 변환\n",
    "def normalize_pattern_name(name):\n",
    "    return name.lower().replace(\" \", \"_\")\n",
    "\n",
    "# 각 법률에서 pattern을 찾아 매핑\n",
    "for law in laws:\n",
    "    law_title = law.get(\"title\", \"\").strip()\n",
    "    related_patterns = law.get(\"related_deceptive_patterns\", [])\n",
    "    \n",
    "    for pattern_info in related_patterns:\n",
    "        pattern_name = normalize_pattern_name(pattern_info[\"name\"])\n",
    "        if law_title not in pattern_to_laws[pattern_name]:\n",
    "            pattern_to_laws[pattern_name].append(law_title)\n",
    "\n",
    "# ✅ JSON 형식 출력 (파일로 저장 가능)\n",
    "with open(\"pattern_to_laws.json\", \"w\", encoding=\"utf-8\") as f:\n",
    "    json.dump(pattern_to_laws, f, indent=2, ensure_ascii=False)\n",
    "\n",
    "# ✅ Prolog fact 형식 출력\n",
    "with open(\"pattern_to_laws.pl\", \"w\", encoding=\"utf-8\") as f:\n",
    "    for pattern, laws in pattern_to_laws.items():\n",
    "        for law in laws:\n",
    "            f.write(f'law_related_to({pattern}, \"{law}\").\\n')"
   ]
  },
  {
   "cell_type": "code",
   "execution_count": null,
   "id": "4add3bfc-1f1e-462a-8f8e-4db5357e491c",
   "metadata": {},
   "outputs": [],
   "source": []
  }
 ],
 "metadata": {
  "kernelspec": {
   "display_name": "Python 3 (ipykernel)",
   "language": "python",
   "name": "python3"
  },
  "language_info": {
   "codemirror_mode": {
    "name": "ipython",
    "version": 3
   },
   "file_extension": ".py",
   "mimetype": "text/x-python",
   "name": "python",
   "nbconvert_exporter": "python",
   "pygments_lexer": "ipython3",
   "version": "3.13.2"
  }
 },
 "nbformat": 4,
 "nbformat_minor": 5
}
