{
 "cells": [
  {
   "cell_type": "code",
   "execution_count": 13,
   "id": "b3febd2d-8283-47db-a878-07096bc14ec7",
   "metadata": {},
   "outputs": [
    {
     "name": "stdout",
     "output_type": "stream",
     "text": [
      "('$132.90 $99.00', 'contains_phrase(screen3, misdirection_phrase)')\n",
      "('This offer is only VALID if you add to cart now!', 'contains_phrase(screen2, misdirection_phrase)')\n",
      "(nan, 'contains_phrase(screen2, misdirection_phrase)')\n",
      "(nan, 'contains_phrase(screen2, misdirection_phrase)')\n",
      "('Save $148.98AUD – 49% Off', 'contains_phrase(screen3, misdirection_phrase)')\n"
     ]
    }
   ],
   "source": [
    "import pandas as pd\n",
    "\n",
    "# CSV 파일 로드\n",
    "df = pd.read_csv(\"darkpatterns.csv\")\n",
    "\n",
    "# 카테고리 → 프레이즈 함수 매핑\n",
    "category_to_function = {\n",
    "    'Social Proof': 'social_proof_phrase',\n",
    "    'Misdirection': 'misdirection_phrase',\n",
    "    'Urgency': 'urgency_phrase',\n",
    "    'Forced Action': 'forced_action_phrase',\n",
    "    'Obstruction': 'obstruction_phrase',\n",
    "    'Sneaking': 'sneaking_phrase',\n",
    "    'Scarcity': 'scarcity_phrase',\n",
    "}\n",
    "\n",
    "# 페이지 위치 → 스크린명 매핑\n",
    "page_to_screen = {\n",
    "    'Home Page': 'screen1',\n",
    "    'Product Page': 'screen2',\n",
    "    'Cart Page': 'screen3',\n",
    "    'Checkout Process': 'screen4',\n",
    "    'Other Page': 'screen5'\n",
    "}\n",
    "\n",
    "# samples 생성\n",
    "samples = [\n",
    "    (\n",
    "        row['Pattern String'],\n",
    "        f\"contains_phrase({page_to_screen.get(row['Where in website?'], 'screenX')}, {category_to_function.get(row['Pattern Category'], 'unknown_phrase')})\"\n",
    "    )\n",
    "    for _, row in df.iterrows()\n",
    "]\n",
    "\n",
    "\n",
    "'''\n",
    "# 예시 출력\n",
    " for s in samples[-5:]:\n",
    "    print(s)\n",
    "'''"
   ]
  },
  {
   "cell_type": "code",
   "execution_count": null,
   "id": "aa2ad842-1bc2-4815-a03f-eda049148cb4",
   "metadata": {},
   "outputs": [],
   "source": []
  }
 ],
 "metadata": {
  "kernelspec": {
   "display_name": "Python 3 (ipykernel)",
   "language": "python",
   "name": "python3"
  },
  "language_info": {
   "codemirror_mode": {
    "name": "ipython",
    "version": 3
   },
   "file_extension": ".py",
   "mimetype": "text/x-python",
   "name": "python",
   "nbconvert_exporter": "python",
   "pygments_lexer": "ipython3",
   "version": "3.13.2"
  }
 },
 "nbformat": 4,
 "nbformat_minor": 5
}
