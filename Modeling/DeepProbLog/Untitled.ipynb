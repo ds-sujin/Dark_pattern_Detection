{
 "cells": [
  {
   "cell_type": "code",
   "execution_count": 5,
   "id": "864090c3-dadf-46e5-b7d8-c2e7c94f5725",
   "metadata": {},
   "outputs": [
    {
     "name": "stdout",
     "output_type": "stream",
     "text": [
      "facts.pl 생성 완료!\n"
     ]
    }
   ],
   "source": [
    "import json\n",
    "\n",
    "# 파일 경로 설정 (네 로컬 경로에 맞게 수정)\n",
    "with open(\"laws_detailed.json\", encoding=\"utf-8\") as f:\n",
    "    laws_data = json.load(f)\n",
    "\n",
    "with open(\"deceptive_design_cases.json\", encoding=\"utf-8\") as f:\n",
    "    cases_data = json.load(f)\n",
    "\n",
    "with open(\"dark_patterns.json\", encoding=\"utf-8\") as f:\n",
    "    pattern_data = json.load(f)\n",
    "\n",
    "with open(\"all_pattern_predicates.json\", encoding=\"utf-8\") as f:\n",
    "    predicate_data = json.load(f)\n",
    "\n",
    "# 1. predicate → pattern\n",
    "predicate_type_facts = []\n",
    "for pattern, predicates in predicate_data.items():\n",
    "    for predicate in predicates:\n",
    "        pred_name = predicate.split(\"(\")[0]  # 인자 제거\n",
    "        fact = f\"predicate_type({pred_name}, {pattern.lower().replace(' ', '_')}).\"\n",
    "        predicate_type_facts.append(fact)\n",
    "\n",
    "# 2. pattern → law\n",
    "type_law_facts = []\n",
    "for law in laws_data:\n",
    "    law_title = law[\"title\"].lower().replace(\" \", \"_\").replace(\",\", \"\").replace(\".\", \"\").replace(\"§\", \"s\")\n",
    "    for pattern in law.get(\"related_deceptive_patterns\", []):\n",
    "        pattern_name = pattern[\"name\"].lower().replace(\" \", \"_\")\n",
    "        fact = f\"type_law({pattern_name}, {law_title}).\"\n",
    "        type_law_facts.append(fact)\n",
    "\n",
    "# 3. case → predicate (유추 기반)\n",
    "case_predicate_facts = []\n",
    "for case_name, case_info in cases_data.items():\n",
    "    case_id = case_name.lower().replace(\" \", \"_\").replace(\",\", \"\").replace(\"'\", \"\").replace(\"’\", \"\")\n",
    "    for pattern_desc in case_info.get(\"Related deceptive patterns\", []):\n",
    "        pattern_key = pattern_desc.split(\" \")[0].lower()\n",
    "        for predicate in predicate_data.get(pattern_key, []):\n",
    "            pred_name = predicate.split(\"(\")[0]\n",
    "            fact = f\"case_predicate({case_id}, {pred_name}).\"\n",
    "            case_predicate_facts.append(fact)\n",
    "\n",
    "# 모든 fact 통합\n",
    "facts_lines = (\n",
    "    predicate_type_facts +\n",
    "    [\"\"] +\n",
    "    type_law_facts +\n",
    "    [\"\"] +\n",
    "    case_predicate_facts\n",
    ")\n",
    "\n",
    "# 저장\n",
    "with open(\"facts.pl\", \"w\", encoding=\"utf-8\") as f:\n",
    "    f.write(\"\\n\".join(facts_lines))\n",
    "\n",
    "print(\"facts.pl 생성 완료!\")"
   ]
  },
  {
   "cell_type": "code",
   "execution_count": null,
   "id": "d04ccbe3-f90d-4a9f-86c1-7664adbc34e3",
   "metadata": {},
   "outputs": [],
   "source": []
  }
 ],
 "metadata": {
  "kernelspec": {
   "display_name": "Python 3 (ipykernel)",
   "language": "python",
   "name": "python3"
  },
  "language_info": {
   "codemirror_mode": {
    "name": "ipython",
    "version": 3
   },
   "file_extension": ".py",
   "mimetype": "text/x-python",
   "name": "python",
   "nbconvert_exporter": "python",
   "pygments_lexer": "ipython3",
   "version": "3.13.2"
  }
 },
 "nbformat": 4,
 "nbformat_minor": 5
}
