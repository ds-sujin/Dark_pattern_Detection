{
 "cells": [
  {
   "cell_type": "code",
   "execution_count": null,
   "id": "dddd86e6-288b-4ca6-9494-0eb240dedd51",
   "metadata": {},
   "outputs": [],
   "source": []
  }
 ],
 "metadata": {
  "kernelspec": {
   "display_name": "",
   "name": ""
  },
  "language_info": {
   "name": ""
  }
 },
 "nbformat": 4,
 "nbformat_minor": 5
}
